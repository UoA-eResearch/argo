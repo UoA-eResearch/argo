{
 "cells": [
  {
   "cell_type": "markdown",
   "metadata": {},
   "source": [
    "# Analysis of Argo data South of 60S\n",
    "\n",
    "## By Nick Young and Fabio Viera Machado"
   ]
  },
  {
   "cell_type": "code",
   "execution_count": null,
   "metadata": {},
   "outputs": [],
   "source": [
    "from netCDF4 import Dataset, num2date\n",
    "import glob\n",
    "from mpl_toolkits.basemap import Basemap\n",
    "import numpy as np\n",
    "import pandas as pd\n",
    "import matplotlib.pyplot as plt\n",
    "import matplotlib.dates as mdates\n",
    "import calendar\n",
    "from scipy.stats import describe\n",
    "from scipy import interpolate\n",
    "from tqdm import tqdm_notebook as tqdm\n",
    "import oceansdb\n",
    "#import seawater as sw\n",
    "#from seawater.library import T90conv"
   ]
  },
  {
   "cell_type": "code",
   "execution_count": null,
   "metadata": {},
   "outputs": [],
   "source": [
    "def load_netcdf(path = \"Argo_South_60\"):\n",
    "    # load_netcdf function input: path - default is \"Argo_South_60\"\n",
    "    files = glob.glob(\"data/\" + path + \"/**/*.nc\", recursive=True)\n",
    "    # glob.glob - returns a list of all the files in a given folder with the extension 'nc'\n",
    "    # recursive=true - keeps on looking for all the files till the end, or the last file that exist\n",
    "    \n",
    "    # creating lists\n",
    "    lats = []\n",
    "    lons = []\n",
    "    datetimes = []\n",
    "    sst = []\n",
    "    max_depth = []\n",
    "\n",
    "    for f in tqdm(files):\n",
    "        # tqdm - make your loops show a progress meter\n",
    "        d = Dataset(f)\n",
    "        # DATASET - Creating/Opening/Closing a netCDF file. \n",
    "        #This is the method used to open an existing netCDF file.\n",
    "        lat = d.variables[\"LATITUDE\"][:]\n",
    "        mask = lat < -60\n",
    "        lon = d.variables[\"LONGITUDE\"][:]\n",
    "        lats.extend(lat[mask])\n",
    "        lons.extend(lon[mask])\n",
    "        #1 The extend () method adds the specified list elements to the end of the current list.\n",
    "        #2 This method does not return any value but add the content to existing list.\n",
    "        juld = d.variables[\"JULD\"][:]\n",
    "        units = d.variables[\"JULD\"].getncattr('units')\n",
    "        #1 getncattr - reads the attributes of given variable i.e units\n",
    "        dates = num2date(juld, units, \"standard\")\n",
    "        #1 num2date - converts the format of the loaded datetime to standard format YYYY-MM-dd\n",
    "        datetimes.extend(dates[mask])\n",
    "        try:\n",
    "            sst.extend(d.variables[\"TEMP_ADJUSTED\"][mask,0])\n",
    "            #1 checks if sst is below 60S and if so, adds it\n",
    "        except:\n",
    "            sst.extend(np.full(len(mask), np.nan))\n",
    "            #2 if sst is above 60S, adds nan values\n",
    "        max_depth.extend(np.nanmax(d.variables[\"PRES_ADJUSTED\"], axis=1))\n",
    "\n",
    "    #1 array() - allows one to do operations on a list\n",
    "    #2 NumPy was imported as np\n",
    "    #3 If we want to do math on a homogeneous array of numeric data, then it is much better to use NumPy, \n",
    "    #  which can automatically vectorize operations on complex multi-dimensional arrays\n",
    "    lats = np.array(lats)\n",
    "    lons = np.array(lons)\n",
    "    datetimes = np.array(datetimes)\n",
    "    sst = np.array(sst)\n",
    "    # saving the arrays in files\n",
    "    np.save(path + \"_lats\", lats)\n",
    "    np.save(path + \"_lons\", lons)\n",
    "    np.save(path + \"_dts\", datetimes)\n",
    "    np.save(path + \"_sst\", sst)\n",
    "    np.save(path + \"_depth\", max_depth)\n",
    "    return lats, lons, datetimes, sst, max_depth\n",
    "\n",
    "def plot(lats, lons, z = [], title = \"Argo profiles south of 60S\", cbtitle = \"Number of points in bin\", vmax=None):\n",
    "    # setup north polar stereographic basemap.\n",
    "    # The longitude lon_0 is at 6-o'clock, and the\n",
    "    # latitude circle boundinglat is tangent to the edge\n",
    "    # of the map at lon_0. Default value of lat_ts\n",
    "    # (latitude of true scale) is pole.\n",
    "    fig = plt.figure(figsize=(15,15))\n",
    "    m = Basemap(projection='spstere',boundinglat=-55,lon_0=180,resolution='l')\n",
    "    m.drawcoastlines()\n",
    "    m.fillcontinents(color='black',lake_color='aqua')\n",
    "    # draw parallels and meridians.\n",
    "    m.drawparallels(np.arange(-60, 0, 20))\n",
    "    m.drawmeridians(np.arange(-180, 181, 20), labels=[1,1,0,1])\n",
    "    #m.drawmapboundary(fill_color='aqua')\n",
    "    plt.title(\"{} {}\".format(len(lats), title))\n",
    "\n",
    "    x, y = m(lons, lats)\n",
    "    if len(z) == 0:\n",
    "        hh, locx, locy = np.histogram2d(x, y, bins=100)\n",
    "        # Sort the points by density, so that the densest points are plotted last\n",
    "        z = np.array([hh[np.argmax(a<=locx[1:]),np.argmax(b<=locy[1:])] for a,b in zip(x,y)])\n",
    "        #print(describe(z))\n",
    "        idx = z.argsort()\n",
    "        x, y, z = x[idx], y[idx], z[idx]\n",
    "    #m.imshow(heatmap, interpolation='bicubic', cmap=\"jet\")\n",
    "    m.scatter(x, y, c=z, s=5, alpha=1, cmap=\"jet\", vmax=vmax)\n",
    "    cb = plt.colorbar()\n",
    "    cb.set_label(cbtitle, rotation=270)\n",
    "    plt.show()\n",
    "\n",
    "def plot_time(dts, title, label):\n",
    "    fig, ax = plt.subplots(1, 1, figsize=(20,10))\n",
    "    for i, dt in enumerate(dts):\n",
    "    #1 enumerate() method adds a counter to an iterable and returns it in a form of enumerate object.\n",
    "    #  This enumerate object can then be used directly in for loops or be converted into a list of tuples using list() method.\n",
    "        k = label[i]\n",
    "        df = pd.DataFrame({k: dt})\n",
    "        #1 Pandas was imported as pd\n",
    "        #2 Dataframe class - class pandas.DataFrame(data=None, index=None, columns=None, dtype=None, copy=False)\n",
    "        #  Two-dimensional size-mutable, potentially heterogeneous tabular data structure with labeled axes (rows and columns).\n",
    "        #  Arithmetic operations align on both row and column labels. \n",
    "        #  Can be thought of as a dict-like container for Series objects\n",
    "        df = df.groupby(by=df[k].dt.date).count()\n",
    "        #1 groupby - groups data by a certain specified variable type\n",
    "        df.plot(ax=ax, style='.', markersize=3)\n",
    "        ax.xaxis.set_major_locator(mdates.YearLocator())\n",
    "        ax.set_title(title, fontsize=18)\n",
    "        ax.set_xlabel(\"Time\",fontsize=14)\n",
    "        ax.set_ylabel(\"Number of profiles\",fontsize=14)\n",
    "        #ax.set_xlabel(\"\")\n",
    "        ax.legend(fontsize=14)\n",
    "    plt.show()"
   ]
  },
  {
   "cell_type": "code",
   "execution_count": null,
   "metadata": {
    "scrolled": false
   },
   "outputs": [],
   "source": [
    "argo_lats, argo_lons, argo_dts, argo_sst, argo_depth = load_netcdf()\n",
    "#plot(argo_lats, argo_lons, vmax=100)\n",
    "#plot(argo_lats, argo_lons, argo_sst[:len(argo_lats)], title = \"Argo SST\", cbtitle = \"Temperature °C\")\n",
    "#plot(argo_lats, argo_lons, argo_depth[:len(argo_lats)], title = \"Argo Depth\", cbtitle = \"Depth (decibar pressure)\")"
   ]
  },
  {
   "cell_type": "code",
   "execution_count": null,
   "metadata": {},
   "outputs": [],
   "source": [
    "print(min(argo_dts), max(argo_dts))\n",
    "plot_time([argo_dts], \"Argo float dailystamps\", [\"Argo\"])"
   ]
  },
  {
   "cell_type": "code",
   "execution_count": null,
   "metadata": {
    "scrolled": false
   },
   "outputs": [],
   "source": [
    "seal_lats, seal_lons, seal_dts, seal_sst, seal_depth = load_netcdf(\"seal\")\n",
    "#plot(seal_lats, seal_lons, title = \"Seal data south of 60S\", vmax=100)\n",
    "#plot(seal_lats, seal_lons, seal_sst[:len(seal_lats)], title = \"Seal SST\", cbtitle = \"Temperature °C\")\n",
    "#plot(seal_lats, seal_lons, seal_depth[:len(seal_lats)], title = \"Seal Depth\", cbtitle = \"Depth (decibar pressure)\")"
   ]
  },
  {
   "cell_type": "code",
   "execution_count": null,
   "metadata": {},
   "outputs": [],
   "source": [
    "print(min(seal_dts), max(seal_dts))\n",
    "plot_time([seal_dts], \"Seal data dailystamps\", [\"Elephant seal\"])"
   ]
  },
  {
   "cell_type": "code",
   "execution_count": null,
   "metadata": {},
   "outputs": [],
   "source": [
    "all_lats = np.concatenate((seal_lats, argo_lats))\n",
    "all_lons = np.concatenate((seal_lons, argo_lons))\n",
    "#plot(all_lats, all_lons, title=\"Argo + seal data south of 60S\", vmax=100)"
   ]
  },
  {
   "cell_type": "code",
   "execution_count": null,
   "metadata": {},
   "outputs": [],
   "source": [
    "plot_time([seal_dts, argo_dts], \"Argo + seal data dailystamps\", [\"Seal\", \"Argo\"])"
   ]
  },
  {
   "cell_type": "code",
   "execution_count": null,
   "metadata": {},
   "outputs": [],
   "source": [
    "def load_netcdf_grid(path = \"Argo_South_60\", resolution = 1, target_var = \"temp\", with_depth = False, filter_month = None, filter_season = None):\n",
    "    if with_depth:\n",
    "        grid = np.full(shape=[15 * resolution, 360 * resolution, 200], fill_value=np.nan)\n",
    "    else:\n",
    "        grid = np.full(shape=[15 * resolution, 360 * resolution], fill_value=np.nan)\n",
    "    files = glob.glob(\"data/{}/**/*.nc\".format(path), recursive=True)\n",
    "    #1 glob.glob - returns a list of all the files in a given folder with the extension 'nc'\n",
    "    #2 recursive=true - keeps on looking for all the files till the end, or the last file that exist\n",
    "             \n",
    "    for f in tqdm(files[:]):\n",
    "    # tqdm - make your loops show a progress meter\n",
    "        d = Dataset(f)\n",
    "        #1 DATASET - Creating/Opening/Closing a netCDF file. \n",
    "        # This is the method used to open an existing netCDF file.\n",
    "        lat = d.variables[\"LATITUDE\"][:]\n",
    "        mask = (lat < -60) & (lat > -74.5)\n",
    "        if filter_month:\n",
    "            juld = d.variables[\"JULD\"][:]\n",
    "            units = d.variables[\"JULD\"].getncattr('units')\n",
    "            dates = num2date(juld, units, \"standard\")\n",
    "            datemask = np.array([d.month == filter_month for d in dates])\n",
    "            mask &= datemask\n",
    "        if filter_season:\n",
    "            juld = d.variables[\"JULD\"][:]\n",
    "            units = d.variables[\"JULD\"].getncattr('units')\n",
    "            dates = num2date(juld, units, \"standard\")\n",
    "            if filter_season == \"Summer\":\n",
    "                datemask = np.array([d.month >= 10 or d.month <= 3 for d in dates])\n",
    "            elif filter_season == \"Winter\":\n",
    "                datemask = np.array([d.month > 3 and d.month < 10 for d in dates])\n",
    "            mask &= datemask\n",
    "        if any(mask):\n",
    "            lat = np.round((np.abs(lat[mask]) - 60) * resolution).astype(int)\n",
    "            lon = d.variables[\"LONGITUDE\"][mask]\n",
    "            lon = np.round((lon + 180) * resolution).astype(int)\n",
    "            lon[lon == 360 * resolution] = 0\n",
    "            if with_depth:\n",
    "                pres = np.round(d.variables[\"PRES_ADJUSTED\"][mask] / 10).astype(int)\n",
    "                temp = d.variables[\"TEMP_ADJUSTED\"][mask]\n",
    "                if target_var == \"sal\":\n",
    "                    try:\n",
    "                        sal = d.variables[\"PSAL_ADJUSTED\"][mask]\n",
    "                    except:\n",
    "                        print(\"No salinity for {}\".format(f))\n",
    "                        continue\n",
    "            else:\n",
    "                pres = d.variables[\"PRES_ADJUSTED\"][mask]\n",
    "                temp = d.variables[\"TEMP_ADJUSTED\"][mask, 0]\n",
    "            for x in np.unique(lon):\n",
    "                for y in np.unique(lat):\n",
    "                    if with_depth:\n",
    "                        ptmask = (lon == x) & (lat == y)\n",
    "                        for z in np.unique(pres[ptmask]):\n",
    "                            if z>= 200 or np.ma.is_masked(z):\n",
    "                                continue\n",
    "                            depthmask = pres[ptmask] == z\n",
    "                            if target_var == \"temp\":\n",
    "                                mean_for_pt = np.ma.mean(temp[ptmask][depthmask])\n",
    "                            elif target_var == \"sal\":\n",
    "                                mean_for_pt = np.ma.mean(sal[ptmask][depthmask])\n",
    "                            if not np.isnan(mean_for_pt) and not np.ma.is_masked(mean_for_pt):\n",
    "                                grid[y, x, z] = np.nanmean((grid[y, x, z], mean_for_pt))\n",
    "                    else:\n",
    "                        ptmask = (lon == x) & (lat == y)\n",
    "                        if target_var == \"n_point\":\n",
    "                            v = np.sum(ptmask)\n",
    "                            if not np.ma.is_masked(v):\n",
    "############# Nick see this line below added on 21/10/2019\n",
    "                                if v != 0:                                   \n",
    "                                #1 added a if statement checking if number of points is greater than 0\n",
    "                                    grid[y, x] = np.nansum((grid[y, x], v))\n",
    "                        elif target_var == \"temp\":\n",
    "                            temps_at_pt = temp[ptmask]\n",
    "                            v = np.ma.mean(temps_at_pt)\n",
    "                            if not np.ma.is_masked(v):\n",
    "                                grid[y, x] = np.nanmean((grid[y, x], v))\n",
    "                        elif target_var == \"depth\":\n",
    "                            pres_at_pt = pres[ptmask]\n",
    "                            if len(pres_at_pt):\n",
    "                                v = np.ma.max(pres[ptmask])\n",
    "                                if not np.ma.is_masked(v):\n",
    "                                    grid[y, x] = np.nanmax((grid[y, x], v))\n",
    "    return grid\n",
    "\n",
    "def plot_grid(grid, resolution = 1, title=\"Argo data\\n0-10 decibars mean temperature\", cbtitle=\"Temperature °C\", vmin=None, vmax=None):\n",
    "    fig = plt.figure(figsize=(15,15))\n",
    "    m = Basemap(projection='spstere',boundinglat=-55,lon_0=180,resolution='l')\n",
    "    m.drawcoastlines()\n",
    "    m.fillcontinents(color='black',lake_color='aqua')\n",
    "    # draw parallels and meridians.\n",
    "    m.drawparallels(np.arange(-60, 0, 20))\n",
    "    m.drawmeridians(np.arange(-180, 181, 20), labels=[1,1,0,1])\n",
    "    #m.drawmapboundary(fill_color='aqua')\n",
    "    plt.title(\"\\n{} gridded at {}° resolution\".format(title, 1/resolution),fontsize = 16)\n",
    "\n",
    "    x = np.arange(-180, 180.1, 1/resolution)\n",
    "    y = np.arange(-60, -75.1, 1/-resolution)\n",
    "    x, y = np.meshgrid(x, y)\n",
    "    x, y = m(x, y)\n",
    "\n",
    "    m.pcolormesh(x, y, grid, cmap=\"jet\", vmin=vmin, vmax=vmax)\n",
    "    cb = plt.colorbar()\n",
    "    cb.set_label(cbtitle, rotation=270, fontsize = 12)\n",
    "    plt.show()\n",
    "    \n",
    "def plot_grid_a(grid, resolution = 1, title=\"Argo data\\n0-10 decibars mean temperature\", cbtitle=\"Temperature °C\", vmin=None, vmax=None):\n",
    "    fig = plt.figure(figsize=(15,15))\n",
    "    m = Basemap(projection='spstere',boundinglat=-55,lon_0=180,resolution='l')\n",
    "    m.drawcoastlines()\n",
    "    m.fillcontinents(color='black',lake_color='aqua')\n",
    "    # draw parallels and meridians.\n",
    "    m.drawparallels(np.arange(-60, 0, 20))\n",
    "    m.drawmeridians(np.arange(-180, 181, 20), labels=[1,1,0,1])\n",
    "    #m.drawmapboundary(fill_color='aqua')\n",
    "    plt.title(\"{}\".format(title),fontsize = 16)\n",
    "    #plt.title(\"{} at {}° resolution\".format(title, 1/resolution),fontsize = 16)\n",
    "\n",
    "    x = np.arange(-180, 180.1, 1/resolution)\n",
    "    y = np.arange(-60, -75.1, 1/-resolution)\n",
    "    x, y = np.meshgrid(x, y)\n",
    "    x, y = m(x, y)\n",
    "\n",
    "    m.pcolormesh(x, y, grid, cmap=\"jet\", vmin=vmin, vmax=vmax)\n",
    "    cb = plt.colorbar()\n",
    "    cb.set_label(cbtitle, rotation=270, fontsize = 12)\n",
    "    plt.show()    \n",
    "\n",
    "def interp_nans(grid, method='linear'):\n",
    "    x = np.arange(0, grid.shape[1])\n",
    "    y = np.arange(0, grid.shape[0])\n",
    "    mask = np.isnan(grid)\n",
    "    xx, yy = np.meshgrid(x, y)\n",
    "    x1 = xx[~mask]\n",
    "    y1 = yy[~mask]\n",
    "    newarr = grid[~mask]\n",
    "    interp = interpolate.griddata((x1, y1), newarr.ravel(), (xx, yy), method=method)\n",
    "    if method == \"linear\":\n",
    "        interp = interp_nans(interp, \"nearest\")\n",
    "    return interp\n",
    "\n",
    "a_title = \"Argo Data\"\n",
    "s_title = \"Seal Data\"\n",
    "comb_title = \"Argo+Seal Data\"\n",
    "interp_title = \"Interpolated Argo+Seal Data\""
   ]
  },
  {
   "cell_type": "code",
   "execution_count": null,
   "metadata": {},
   "outputs": [],
   "source": [
    "resolution = 2\n",
    "argo_pt_grid = load_netcdf_grid(target_var=\"n_point\", with_depth = False, resolution = resolution)\n",
    "seal_pt_grid = load_netcdf_grid(path=\"seal\", target_var=\"n_point\", with_depth = False, resolution = resolution)"
   ]
  },
  {
   "cell_type": "code",
   "execution_count": null,
   "metadata": {},
   "outputs": [],
   "source": [
    "combined_pt_grid = np.nansum((argo_pt_grid, seal_pt_grid), axis=0)\n",
    "combined_pt_grid[np.isnan(argo_pt_grid) & np.isnan(seal_pt_grid)] = np.nan"
   ]
  },
  {
   "cell_type": "code",
   "execution_count": null,
   "metadata": {
    "scrolled": false
   },
   "outputs": [],
   "source": [
    "#plot_grid(argo_pt_grid, title=\"Number of vertical profiles in gridded argo dataset\", cbtitle=\"Number of profiles\", vmin=1,vmax=25, resolution = resolution)\n",
    "plot_grid(argo_pt_grid, title=a_title + \"\\nNumber of vertical profiles\", cbtitle=\"Number of profiles\", vmin=1,vmax=25, resolution = resolution)\n",
    "plot_grid(seal_pt_grid, title=s_title + \"\\nNumber of vertical profiles\", cbtitle=\"Number of profiles\", vmin=1,vmax=25, resolution = resolution)\n",
    "plot_grid(combined_pt_grid, title=comb_title + \"\\nNumber of vertical profiles\", cbtitle=\"Number of profiles\", vmin=1,vmax=25, resolution = resolution)"
   ]
  },
  {
   "cell_type": "code",
   "execution_count": null,
   "metadata": {},
   "outputs": [],
   "source": [
    "resolution = 2"
   ]
  },
  {
   "cell_type": "code",
   "execution_count": null,
   "metadata": {},
   "outputs": [],
   "source": [
    "argo_temp_grid = load_netcdf_grid(resolution = resolution)\n",
    "seal_temp_grid = load_netcdf_grid(\"seal\", resolution = resolution)"
   ]
  },
  {
   "cell_type": "code",
   "execution_count": null,
   "metadata": {},
   "outputs": [],
   "source": [
    "combined_temp_grid = np.nanmean((argo_temp_grid, seal_temp_grid), axis=0)"
   ]
  },
  {
   "cell_type": "code",
   "execution_count": null,
   "metadata": {
    "scrolled": false
   },
   "outputs": [],
   "source": [
    "title = a_title + \"\\n0-10 decibars mean temperature\"\n",
    "plot_grid(argo_temp_grid, title=title, resolution = resolution)\n",
    "#title = \"Seal data gridded at {}\\n0-10 decibar mean temperature\\nMean across all points = {}\".format(1/resolution,sealmean)\n",
    "title = s_title + \"\\n0-10 decibar mean temperature\"\n",
    "plot_grid(seal_temp_grid, title=title, resolution = resolution)\n",
    "title = comb_title + \"\\n0-10 decibar mean temperature\"\n",
    "plot_grid(combined_temp_grid, title=title, resolution = resolution)"
   ]
  },
  {
   "cell_type": "code",
   "execution_count": null,
   "metadata": {},
   "outputs": [],
   "source": [
    "interp = interp_nans(combined_temp_grid)"
   ]
  },
  {
   "cell_type": "code",
   "execution_count": null,
   "metadata": {},
   "outputs": [],
   "source": [
    "#title = \"Argo+Seal data gridded at {}\\n0-10 decibar mean temperature\\nMean across all points = {}\".format(1/resolution,interpmean)\n",
    "title = interp_title + \"\\n0-10 decibar mean temperature\"\n",
    "plot_grid(interp, resolution = resolution, title=title)"
   ]
  },
  {
   "cell_type": "code",
   "execution_count": null,
   "metadata": {},
   "outputs": [],
   "source": [
    "argo_max_depth = load_netcdf_grid(target_var = \"depth\", resolution = resolution)\n",
    "seal_max_depth = load_netcdf_grid(\"seal\", target_var = \"depth\", resolution = resolution)"
   ]
  },
  {
   "cell_type": "code",
   "execution_count": null,
   "metadata": {},
   "outputs": [],
   "source": [
    "plot_grid(argo_max_depth, resolution = resolution, title=\"Argo data Max depth\\n\", cbtitle=\"Depth (dbar)\")\n",
    "plot_grid(seal_max_depth, resolution = resolution, title=\"Seal data Max depth\\n\", cbtitle=\"Depth (dbar)\", vmax=2000)"
   ]
  },
  {
   "cell_type": "code",
   "execution_count": null,
   "metadata": {
    "scrolled": false
   },
   "outputs": [],
   "source": [
    "for month in range(1, 13):\n",
    "    argo_temp = load_netcdf_grid(filter_month = month, with_depth=True)\n",
    "    seal_temp = load_netcdf_grid(\"seal\", filter_month = month, with_depth=True)\n",
    "    combined_temp = np.nanmean((argo_temp, seal_temp), axis=0)\n",
    "    np.save(\"argo_temp_grid_{}\".format(month), argo_temp)\n",
    "    np.save(\"seal_temp_grid_{}\".format(month), seal_temp)\n",
    "    np.save(\"combined_temp_grid_{}\".format(month), combined_temp)\n",
    "    interp_temp = interp_nans(combined_temp[:,:,0])\n",
    "    argomean = np.round(np.nanmean(argo_temp), 2)\n",
    "    sealmean = np.round(np.nanmean(seal_temp), 2)\n",
    "    combmean = np.round(np.nanmean(combined_temp), 2)\n",
    "    interpmean = np.round(np.nanmean(interp_temp), 2)\n",
    "#   #title = a_title + \"\\n0-10 decibar mean temperature for {}\\nMean across all points = {}\".format(calendar.month_abbr[month], argomean)\n",
    "    title = a_title + \"\\n0-10 decibars mean temperature for {}\".format(calendar.month_abbr[month])\n",
    "    plot_grid(argo_temp[:,:,0], title=title)\n",
    "#   #title = \"Seal data\\n0-10 decibar mean temperature for {}\\nMean across all points = {}\".format(calendar.month_abbr[month], sealmean)\n",
    "    title = s_title + \"\\n0-10 decibar mean temperature for {}\".format(calendar.month_abbr[month])\n",
    "    plot_grid(seal_temp[:,:,0], title=title)\n",
    "    title = comb_title + \"\\n0-10 decibar mean temperature for {}\".format(calendar.month_abbr[month])\n",
    "#   title = \"Argo+Seal data\\n0-10 decibar mean temperature for {}\\nMean across all points = {}\".format(calendar.month_abbr[month], combmean)\n",
    "    plot_grid(combined_temp[:,:,0], title=title)\n",
    "    title = interp_title + \"\\n0-10 decibar mean for {}\".format(calendar.month_abbr[month])\n",
    "    plot_grid(interp_temp, title=title)"
   ]
  },
  {
   "cell_type": "code",
   "execution_count": null,
   "metadata": {
    "scrolled": false
   },
   "outputs": [],
   "source": [
    "resolution = 2\n",
    "for season in [\"Summer\", \"Winter\"]:\n",
    "    argo_temp = load_netcdf_grid(filter_season = season, with_depth=True, resolution = resolution)\n",
    "    #added number of point for summer season\n",
    "    #argo_pts_grid = load_netcdf_grid(target_var=\"n_point\", filter_season = season, with_depth = False, resolution = resolution)##\n",
    "    seal_temp = load_netcdf_grid(\"seal\", filter_season = season, with_depth=True, resolution = resolution)\n",
    "    combined_temp = np.nanmean((argo_temp, seal_temp), axis=0)\n",
    "    np.save(\"argo_pts_grid_{}\".format(season), argo_pts_grid) ##\n",
    "    np.save(\"argo_temp_grid_{}\".format(season), argo_temp)\n",
    "    np.save(\"seal_temp_grid_{}\".format(season), seal_temp)\n",
    "    np.save(\"combined_temp_grid_{}\".format(season), combined_temp)\n",
    "    interp_temp = interp_nans(combined_temp[:,:,0])\n",
    "    argomean = np.round(np.nanmean(argo_temp), 2)\n",
    "    sealmean = np.round(np.nanmean(seal_temp), 2)\n",
    "    combmean = np.round(np.nanmean(combined_temp), 2)\n",
    "    interpmean = np.round(np.nanmean(interp_temp), 2)\n",
    "    #title = \"Argo data 0-10 decibar mean temperature for {}\\nMean across all points = {}\".format(season, argomean)\n",
    "    title = a_title + \"\\n0-10 decibar mean temperature for {}\".format(season)\n",
    "    plot_grid(argo_temp[:,:,0], title=title, resolution = resolution)\n",
    "    title = s_title + \"\\n0-10 decibar mean temperature for {}\".format(season)\n",
    "    plot_grid(seal_temp[:,:,0], title=title, resolution = resolution)\n",
    "    title = comb_title + \"\\n0-10 decibar mean temperature for {}\".format(season)\n",
    "    plot_grid(combined_temp[:,:,0], title=title, resolution = resolution)\n",
    "    title = interp_title + \"\\n0-10 decibar mean for {}\".format(season)\n",
    "    plot_grid(interp_temp, title=title, resolution = resolution)\n",
    "    #plot_grid(argo_pts_grid, title=\"Number of points in gridded argo dataset\", cbtitle=\"Number of points\", vmin=1,vmax=25, resolution = resolution)\n",
    "    #title=\"Argo data\\nNumber of profiles for {}\".format(season) ##\n",
    "    #plot_grid(argo_pts_grid, title=title, cbtitle=\"Number of profiles\", vmin=1,vmax=25, resolution = resolution)##\n",
    "    "
   ]
  },
  {
   "cell_type": "code",
   "execution_count": null,
   "metadata": {},
   "outputs": [],
   "source": [
    "resolution = 2\n",
    "try:\n",
    "    argo_temp_grid_withdepth = np.load(\"argo_temp_grid_withdepth.npy\")\n",
    "    seal_temp_grid_withdepth = np.load(\"seal_temp_grid_withdepth.npy\")\n",
    "    combined_temp_grid_withdepth = np.load(\"combined_temp_grid_withdepth.npy\")\n",
    "except:\n",
    "    argo_temp_grid_withdepth = load_netcdf_grid(with_depth=True, resolution = resolution)\n",
    "    seal_temp_grid_withdepth = load_netcdf_grid(\"seal\", with_depth=True, resolution = resolution)\n",
    "    combined_temp_grid_withdepth = np.nanmean((argo_temp_grid_withdepth, seal_temp_grid_withdepth), axis=0)\n",
    "    np.save(\"argo_temp_grid_withdepth\", argo_temp_grid_withdepth)\n",
    "    np.save(\"seal_temp_grid_withdepth\", seal_temp_grid_withdepth)\n",
    "    np.save(\"combined_temp_grid_withdepth\", combined_temp_grid_withdepth)\n",
    "    "
   ]
  },
  {
   "cell_type": "code",
   "execution_count": null,
   "metadata": {
    "scrolled": false
   },
   "outputs": [],
   "source": [
    "dbars = [0, 5, 10, 15, 20, 30, 50, 75, 100, 125, 150, 175, 190, 199]\n",
    "vmax = 6\n",
    "vmin = -3\n",
    "for db in dbars:\n",
    "    mtf = \"mean temperature field\"\n",
    "    #Argo data\\n0-10 decibar mean temperature for {}\\nMean across all points = {}\".format(calendar.month_abbr[month], argomean)\n",
    "    dbs = \"{}-{} dbar \".format(db*10, (db+1)*10)\n",
    "#   dbs = \"between {}-{} dbar\".format(db*10, (db+1)*10)\n",
    "    plot_grid(argo_temp_grid_withdepth[:,:,db], title=a_title + \"\\n\" + dbs + mtf, resolution=resolution, vmin=vmin, vmax=vmax)\n",
    "    plot_grid(seal_temp_grid_withdepth[:,:,db], title=s_title + \"\\n\" + dbs + mtf, resolution=resolution, vmin=vmin, vmax=vmax)\n",
    "    plot_grid(combined_temp_grid_withdepth[:,:,db], title=comb_title + \"\\n\" + dbs + mtf, resolution=resolution, vmin=vmin, vmax=vmax)\n",
    "    interp = interp_nans(combined_temp_grid_withdepth[:,:,db])\n",
    "    plot_grid(interp, title=interp_title + \"\\n\" + dbs + mtf, resolution=resolution, vmin=vmin, vmax=vmax)"
   ]
  },
  {
   "cell_type": "code",
   "execution_count": null,
   "metadata": {},
   "outputs": [],
   "source": [
    "fig = plt.figure(figsize=(15,15))\n",
    "m = Basemap(projection='spstere',boundinglat=-55,lon_0=180,resolution='l')\n",
    "#m.drawcoastlines()\n",
    "#m.fillcontinents(color='black',lake_color='aqua')\n",
    "# draw parallels and meridians.\n",
    "m.drawparallels(np.arange(-60, 0, 20))\n",
    "m.drawmeridians(np.arange(-180, 181, 20), labels=[1,1,0,1])\n",
    "#m.drawmapboundary(fill_color='aqua')\n",
    "m.etopo()\n",
    "plt.title(\"Bathymetry south of -60S\")"
   ]
  },
  {
   "cell_type": "code",
   "execution_count": null,
   "metadata": {
    "scrolled": false
   },
   "outputs": [],
   "source": [
    "def plot_cross_slope(grid, title=\"Temperature at 179° W\", lon=-179, cbtitle=\"Temperature °C\", resolution = 1):\n",
    "    fig, ax = plt.subplots(1, 1, figsize=(20,10))\n",
    "    y = np.arange(-60, -75, -1/resolution)\n",
    "    z = np.arange(0, 2000, 10)\n",
    "    levels = np.arange(np.nanmin(grid), np.nanmax(grid), .01)\n",
    "    im = ax.contourf(y, z, grid.T, cmap=\"jet\", levels = levels, extend=\"both\")\n",
    "    ax.set_xlabel(\"° Latitude\")\n",
    "    ax.set_ylabel(\"Depth (dbar)\")\n",
    "    ax.set_title(\"{} at {} resolution\".format(title, 1 / resolution))\n",
    "    cb = fig.colorbar(im)\n",
    "    cb.set_label(cbtitle, rotation=270)\n",
    "    \n",
    "    db = oceansdb.ETOPO()\n",
    "    y = np.arange(-60, -75, -.01)\n",
    "    h = -db['topography'].extract(lat=y, lon=lon)[\"height\"]\n",
    "    #ax.plot(y, h)\n",
    "    ax.fill_between(y, 5000, h, color='black')\n",
    "    ax.set_ylim(2000, 0)\n",
    "    ax.set_xlim(-60, -74.5)\n",
    "    \n",
    "    plt.show()\n",
    "\n",
    "filtered = combined_temp_grid_withdepth[:,2,:]\n",
    "interp = interp_nans(filtered)\n",
    "plot_cross_slope(filtered, resolution = resolution)\n",
    "plot_cross_slope(interp, title=\"Interpolated Temperature at 179° W\", resolution = resolution)"
   ]
  },
  {
   "cell_type": "code",
   "execution_count": null,
   "metadata": {},
   "outputs": [],
   "source": [
    "try:\n",
    "    argo_sal_grid_withdepth = np.load(\"argo_sal_grid_withdepth.npy\")\n",
    "    seal_sal_grid_withdepth = np.load(\"seal_sal_grid_withdepth.npy\")\n",
    "    combined_sal_grid_withdepth = np.load(\"combined_sal_grid_withdepth.npy\")\n",
    "except:\n",
    "    argo_sal_grid_withdepth = load_netcdf_grid(with_depth=True, target_var=\"sal\", resolution = resolution)\n",
    "    seal_sal_grid_withdepth = load_netcdf_grid(\"seal\", with_depth=True, target_var=\"sal\", resolution = resolution)\n",
    "    combined_sal_grid_withdepth = np.nanmean((argo_sal_grid_withdepth, seal_sal_grid_withdepth), axis=0)\n",
    "    np.save(\"argo_sal_grid_withdepth\", argo_sal_grid_withdepth)\n",
    "    np.save(\"seal_sal_grid_withdepth\", seal_sal_grid_withdepth)\n",
    "    np.save(\"combined_sal_grid_withdepth\", combined_sal_grid_withdepth)"
   ]
  },
  {
   "cell_type": "code",
   "execution_count": null,
   "metadata": {},
   "outputs": [],
   "source": [
    "fig, ax = plt.subplots(1, 1, figsize=(20,10))\n",
    "print(argo_sal_grid_withdepth.shape)\n",
    "seal_counts = np.sum(~np.isnan(seal_sal_grid_withdepth), axis=2)\n",
    "argo_counts = np.sum(~np.isnan(argo_sal_grid_withdepth), axis=2)\n",
    "print(np.argwhere(seal_counts + argo_counts == 319))\n",
    "depth = np.arange(0, 2000, 10)\n",
    "ax.set_xlabel(\"Salinity\")\n",
    "ax.set_ylabel(\"Depth (dbar)\")\n",
    "ax.set_title(\"Salinity profile\")\n",
    "ax.set_ylim(2000, 0)\n",
    "ax.plot(argo_sal_grid_withdepth[11, 466, :], depth)\n",
    "ax.plot(seal_sal_grid_withdepth[11, 466, :], depth)\n",
    "ax.legend([\"argo\", \"seal\"])"
   ]
  },
  {
   "cell_type": "code",
   "execution_count": null,
   "metadata": {},
   "outputs": [],
   "source": [
    "for season in [\"Summer\", \"Winter\"]:\n",
    "    argo_temp = np.load(\"argo_temp_grid_{}.npy\".format(season))\n",
    "    seal_temp = np.load(\"seal_temp_grid_{}.npy\".format(season))\n",
    "    fig, ax = plt.subplots(1, 1, figsize=(20,10))\n",
    "    depth = np.arange(0, 2000, 10)\n",
    "    ax.set_xlabel(\"{} temperature °C\".format(season))\n",
    "    ax.set_ylabel(\"Depth (dbar)\")\n",
    "    ax.set_title(\"{} temperature °C profile\".format(season))\n",
    "    ax.set_ylim(2000, 0)\n",
    "    ax.plot(argo_temp[6, 233, :], depth)\n",
    "    ax.plot(seal_temp[6, 233, :], depth)\n",
    "    ax.legend([\"argo\", \"seal\"])"
   ]
  },
  {
   "cell_type": "code",
   "execution_count": null,
   "metadata": {
    "scrolled": false
   },
   "outputs": [],
   "source": [
    "dbars = [0, 5, 10, 15, 20, 30, 50, 75, 100, 125, 150, 175, 190, 199]\n",
    "vmax = 35\n",
    "vmin = 33.5\n",
    "for db in dbars:\n",
    "    msf = \"mean salinity field\"\n",
    "    dbs = \"{}-{} dbar \".format(db*10, (db+1)*10)\n",
    "    plot_grid(argo_sal_grid_withdepth[:,:,db], title=a_title + \"\\n\" + dbs + msf , resolution=resolution, vmin=vmin, vmax=vmax)\n",
    "    plot_grid(seal_sal_grid_withdepth[:,:,db], title=s_title + \"\\n\" + dbs + msf, resolution=resolution, vmin=vmin, vmax=vmax)\n",
    "    plot_grid(combined_sal_grid_withdepth[:,:,db], title=comb_title + \"\\n\" + dbs + msf, resolution=resolution, vmin=vmin, vmax=vmax)\n",
    "    interp = interp_nans(combined_sal_grid_withdepth[:,:,db])\n",
    "    plot_grid(interp, title=interp_title + \"\\n\" + dbs + msf, cbtitle=\"Salinity\", resolution=resolution, vmin=vmin, vmax=vmax)"
   ]
  },
  {
   "cell_type": "code",
   "execution_count": 417,
   "metadata": {},
   "outputs": [],
   "source": [
    "def dens_smow(T):\n",
    "    '''\n",
    "    Function calculates density of standard mean ocean water (pure water) using EOS 1980.\n",
    "    INPUT: T = temperature [degree C (ITS-90)]\n",
    "    OUTPUT: dens = density [kg/m^3]\n",
    "    '''\n",
    "    a0 = 999.842594;a1 = 6.793952e-2;a2 = -9.095290e-3;a3 = 1.001685e-4;a4 = -1.120083e-6;a5 = 6.536332e-9\n",
    "    T68 = T * 1.00024\n",
    "    dens = (a0 + (a1 + (a2 + (a3 + (a4 + a5*T68)*T68)*T68)*T68)*T68)\n",
    "    return dens\n",
    "\n",
    "def dens0(S, T):\n",
    "    '''\n",
    "    Function calculates density of sea water at atmospheric pressure\n",
    "    USAGE:  dens0 = dens0(S,T)\n",
    "    DESCRIPTION:\n",
    "        Density of Sea Water at atmospheric pressure using\n",
    "        UNESCO 1983 (EOS 1980) polynomial.\n",
    "    INPUT:  (all must have same dimensions)\n",
    "        S = salinity    [psu      (PSS-78)]\n",
    "        T = temperature [degree C (ITS-90)]\n",
    "    OUTPUT:\n",
    "        dens0 = density  [kg/m^3] of salt water with properties S,T,\n",
    "        P=0 (0 db gauge pressure)\n",
    "    '''\n",
    "    assert S.shape == T.shape\n",
    "    T68 = T * 1.00024\n",
    "    # UNESCO 1983 eqn(13) p17.\n",
    "    b0 = 8.24493e-1;b1 = -4.0899e-3;b2 = 7.6438e-5;b3 = -8.2467e-7;b4 = 5.3875e-9\n",
    "    c0 = -5.72466e-3;c1 = +1.0227e-4;c2 = -1.6546e-6\n",
    "    d0 = 4.8314e-4\n",
    "    dens = (dens_smow(T) + (b0+ (b1+(b2+(b3+b4*T68)*T68)*T68)*T68)*S + (c0+(c1+c2*T68)*T68)*S*np.sqrt(S)+ d0*(S**2) )\n",
    "    return dens"
   ]
  },
  {
   "cell_type": "code",
   "execution_count": 418,
   "metadata": {},
   "outputs": [
    {
     "ename": "MemoryError",
     "evalue": "",
     "output_type": "error",
     "traceback": [
      "\u001b[1;31m---------------------------------------------------------------------------\u001b[0m",
      "\u001b[1;31mMemoryError\u001b[0m                               Traceback (most recent call last)",
      "\u001b[1;32m<ipython-input-418-a83bd7fbde84>\u001b[0m in \u001b[0;36m<module>\u001b[1;34m\u001b[0m\n\u001b[0;32m      1\u001b[0m \u001b[1;31m#Cell added on 21/10/2019 - still testing\u001b[0m\u001b[1;33m\u001b[0m\u001b[1;33m\u001b[0m\u001b[1;33m\u001b[0m\u001b[0m\n\u001b[0;32m      2\u001b[0m \u001b[1;31m# adding function for TS Diagram\u001b[0m\u001b[1;33m\u001b[0m\u001b[1;33m\u001b[0m\u001b[1;33m\u001b[0m\u001b[0m\n\u001b[1;32m----> 3\u001b[1;33m \u001b[0mdens\u001b[0m \u001b[1;33m=\u001b[0m \u001b[0mdens0\u001b[0m\u001b[1;33m(\u001b[0m\u001b[0margo_sal_grid_withdepth\u001b[0m\u001b[1;33m,\u001b[0m \u001b[0margo_temp_grid_withdepth\u001b[0m\u001b[1;33m)\u001b[0m\u001b[1;33m\u001b[0m\u001b[1;33m\u001b[0m\u001b[0m\n\u001b[0m\u001b[0;32m      4\u001b[0m \u001b[1;31m# print(combined_temp_grid_withdepth[0])\u001b[0m\u001b[1;33m\u001b[0m\u001b[1;33m\u001b[0m\u001b[1;33m\u001b[0m\u001b[0m\n\u001b[0;32m      5\u001b[0m \u001b[1;31m#shape of dens - (30,720,200) = (latitude, longitude, vertical layers)\u001b[0m\u001b[1;33m\u001b[0m\u001b[1;33m\u001b[0m\u001b[1;33m\u001b[0m\u001b[0m\n",
      "\u001b[1;32m<ipython-input-417-8716bda35e14>\u001b[0m in \u001b[0;36mdens0\u001b[1;34m(S, T)\u001b[0m\n\u001b[0;32m     25\u001b[0m     '''\n\u001b[0;32m     26\u001b[0m     \u001b[1;32massert\u001b[0m \u001b[0mS\u001b[0m\u001b[1;33m.\u001b[0m\u001b[0mshape\u001b[0m \u001b[1;33m==\u001b[0m \u001b[0mT\u001b[0m\u001b[1;33m.\u001b[0m\u001b[0mshape\u001b[0m\u001b[1;33m\u001b[0m\u001b[1;33m\u001b[0m\u001b[0m\n\u001b[1;32m---> 27\u001b[1;33m     \u001b[0mT68\u001b[0m \u001b[1;33m=\u001b[0m \u001b[0mT\u001b[0m \u001b[1;33m*\u001b[0m \u001b[1;36m1.00024\u001b[0m\u001b[1;33m\u001b[0m\u001b[1;33m\u001b[0m\u001b[0m\n\u001b[0m\u001b[0;32m     28\u001b[0m     \u001b[1;31m# UNESCO 1983 eqn(13) p17.\u001b[0m\u001b[1;33m\u001b[0m\u001b[1;33m\u001b[0m\u001b[1;33m\u001b[0m\u001b[0m\n\u001b[0;32m     29\u001b[0m     \u001b[0mb0\u001b[0m \u001b[1;33m=\u001b[0m \u001b[1;36m8.24493e-1\u001b[0m\u001b[1;33m;\u001b[0m\u001b[0mb1\u001b[0m \u001b[1;33m=\u001b[0m \u001b[1;33m-\u001b[0m\u001b[1;36m4.0899e-3\u001b[0m\u001b[1;33m;\u001b[0m\u001b[0mb2\u001b[0m \u001b[1;33m=\u001b[0m \u001b[1;36m7.6438e-5\u001b[0m\u001b[1;33m;\u001b[0m\u001b[0mb3\u001b[0m \u001b[1;33m=\u001b[0m \u001b[1;33m-\u001b[0m\u001b[1;36m8.2467e-7\u001b[0m\u001b[1;33m;\u001b[0m\u001b[0mb4\u001b[0m \u001b[1;33m=\u001b[0m \u001b[1;36m5.3875e-9\u001b[0m\u001b[1;33m\u001b[0m\u001b[1;33m\u001b[0m\u001b[0m\n",
      "\u001b[1;31mMemoryError\u001b[0m: "
     ]
    }
   ],
   "source": [
    "#Cell added on 21/10/2019 - still testing\n",
    "# adding function for TS Diagram\n",
    "dens = dens0(argo_sal_grid_withdepth, argo_temp_grid_withdepth)\n",
    "# print(combined_temp_grid_withdepth[0])\n",
    "#shape of dens - (30,720,200) = (latitude, longitude, vertical layers)\n",
    "\n",
    "cmap = plt.get_cmap('jet_r');cmap.set_bad(color='white')\n",
    "\n",
    "fig = plt.figure(4,figsize=(15,15))  #TS-diagram of Argo profiles in the Ross Sea Slice\n",
    "plt.scatter(argo_sal_grid_withdepth[0:10],argo_temp_grid_withdepth[0:10],s = 2,c=dens[0:10],cmap = cmap, edgecolors='none',alpha=0.8)\n",
    "plt.xlim(33.8,35);plt.ylim(-2.5,5)\n",
    "plt.clb = plt.colorbar();plt.clb.ax.set_title('Density (kg/m$^3$)')                  \n",
    "#plt.xlabel('Pratical salinity',fontsize = 18);\n",
    "#plt.ylabel('Temperature ($^oC$)',fontsize = 18)\n",
    "ax.set_xlabel('Pratical salinity',fontsize = 18);\n",
    "ax.set_ylabel('Temperature ($^oC$)',fontsize = 18)\n",
    "plt.title('T-S diagram, Argo profiles',fontsize = 20)\n",
    "# plt.axis('tight')\n",
    "plt.show()\n",
    "#     for i in range(0, len(FILES)):\n",
    "#         read = Dataset(source + count_60[j][1] + '/profiles/' + FILES[i], mode = 'r')\n",
    "#         Lat = read.variables['LATITUDE'][:]\n",
    "#         Lon = read.variables['LONGITUDE'][:]\n",
    "#         if Lon[0] < -140, Lon[0] > 160:\n",
    "#             Temp = read.variables['TEMP'][:]\n",
    "#             Psal = read.variables['PSAL'][:]\n",
    "#             sigma = dens0(Psal[0],Temp[0])\n",
    "#             scatter(Psal[0],Temp[0],s = 2,c=sigma,cmap = cmap, edgecolors='none',alpha=0.8)\n",
    "\n",
    "# xlim(33.8,35);ylim(-2.5,5)\n",
    "# clb = colorbar()#;clb.ax.set_title('Density (kg/m$^3$)')                  \n",
    "# axis('tight');grid('on',alpha=0.2)\n",
    "# # savepath = os.path.join('C:/Users/fvie285/Desktop/PhD_Project/Data/figures/Argo_South_of_50/aoml_figures/TS_diagram_RSS.png')\n",
    "# # savefig(savepath, bbox_inches='tight', dpi=300) \n",
    "# show()\n"
   ]
  },
  {
   "cell_type": "code",
   "execution_count": null,
   "metadata": {
    "scrolled": false
   },
   "outputs": [],
   "source": [
    "dens = dens0(combined_sal_grid_withdepth, combined_temp_grid_withdepth)\n",
    "dbars = [30, 50, 100, 150, 199]\n",
    "vmax = 1028\n",
    "vmin = 1026.5\n",
    "\n",
    "for db in dbars:\n",
    "    dbs = \"from {}-{} dbar\".format(db*10, (db+1)*10)\n",
    "    interp = interp_nans(dens[:,:,db])\n",
    "    print(np.nanmin(interp), np.nanmax(interp))\n",
    "    plot_grid(interp, title=\"Interpolated gridded seal+argo density data \" + dbs, cbtitle=\"Density\", resolution=resolution, vmin=vmin, vmax=vmax)"
   ]
  },
  {
   "cell_type": "code",
   "execution_count": null,
   "metadata": {},
   "outputs": [],
   "source": [
    "plot_cross_slope(dens[:,2,:], title=\"Density at 179° W\", cbtitle=\"Density\", resolution=resolution)\n",
    "plot_cross_slope(interp_nans(dens[:,2,:]), title=\"Interpolated density at 179° W\", cbtitle=\"Density\", resolution=resolution)"
   ]
  },
  {
   "cell_type": "code",
   "execution_count": null,
   "metadata": {},
   "outputs": [],
   "source": []
  }
 ],
 "metadata": {
  "kernelspec": {
   "display_name": "Python 3",
   "language": "python",
   "name": "python3"
  },
  "language_info": {
   "codemirror_mode": {
    "name": "ipython",
    "version": 3
   },
   "file_extension": ".py",
   "mimetype": "text/x-python",
   "name": "python",
   "nbconvert_exporter": "python",
   "pygments_lexer": "ipython3",
   "version": "3.7.4"
  }
 },
 "nbformat": 4,
 "nbformat_minor": 2
}
